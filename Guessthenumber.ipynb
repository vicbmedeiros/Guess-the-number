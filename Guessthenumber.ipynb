{
 "cells": [
  {
   "cell_type": "code",
   "execution_count": 6,
   "id": "8044b02c",
   "metadata": {},
   "outputs": [],
   "source": [
    "import random\n",
    "from random import randint"
   ]
  },
  {
   "cell_type": "code",
   "execution_count": 43,
   "id": "c15d5837",
   "metadata": {},
   "outputs": [],
   "source": [
    "def guess_num():\n",
    "    guess_num = 'WRONG'\n",
    "    attempts = 0\n",
    "    while guess_num.isdigit() == False:\n",
    "        guess_num = input(\"Guess the number:\")\n",
    "        attempts += 1\n",
    "        if guess_num.isdigit() == False:\n",
    "            print(\"Is not a digit\")\n",
    "\n",
    "    return int(guess_num)"
   ]
  },
  {
   "cell_type": "code",
   "execution_count": 48,
   "id": "82049f2f",
   "metadata": {},
   "outputs": [],
   "source": [
    "def play_game():\n",
    "    \n",
    "    number = random.randint(1,100)\n",
    "    \n",
    "    print(\"Welcome to Guess Game!\")\n",
    "    print(\"I think of a number between 1 and 100\")\n",
    "    game_on = True\n",
    "    \n",
    "    while game_on:\n",
    "        guess = guess_num()\n",
    "        \n",
    "       # guess = int(input(\"Guess the number:\"))\n",
    "        # attempts += 1\n",
    "        \n",
    "        if guess > number:\n",
    "            print(\"That's too high!\")\n",
    "            pass\n",
    "        \n",
    "        if guess < number:\n",
    "            print(\"That's too low!\")\n",
    "            pass\n",
    "        \n",
    "        elif guess == number:\n",
    "            print(\"Nice guess, you are right!!\")\n",
    "            print(guess)\n",
    "            game_on = False"
   ]
  },
  {
   "cell_type": "code",
   "execution_count": 49,
   "id": "e99a2e5e",
   "metadata": {},
   "outputs": [
    {
     "name": "stdout",
     "output_type": "stream",
     "text": [
      "Welcome to Guess Game!\n",
      "I think of a number between 1 and 100\n",
      "Guess the number:ka\n",
      "Is not a digit\n",
      "Guess the number:10\n",
      "That's too low!\n",
      "Guess the number:50\n",
      "That's too low!\n",
      "Guess the number:60\n",
      "That's too low!\n",
      "Guess the number:70\n",
      "That's too high!\n",
      "Guess the number:66\n",
      "That's too high!\n",
      "Guess the number:64\n",
      "That's too low!\n",
      "Guess the number:65\n",
      "Nice guess, you are right!!\n",
      "65\n"
     ]
    }
   ],
   "source": [
    "play_game()"
   ]
  },
  {
   "cell_type": "markdown",
   "id": "70c89f87",
   "metadata": {},
   "source": []
  }
 ],
 "metadata": {
  "kernelspec": {
   "display_name": "Python 3 (ipykernel)",
   "language": "python",
   "name": "python3"
  },
  "language_info": {
   "codemirror_mode": {
    "name": "ipython",
    "version": 3
   },
   "file_extension": ".py",
   "mimetype": "text/x-python",
   "name": "python",
   "nbconvert_exporter": "python",
   "pygments_lexer": "ipython3",
   "version": "3.11.5"
  }
 },
 "nbformat": 4,
 "nbformat_minor": 5
}
